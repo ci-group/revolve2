{
 "cells": [
  {
   "cell_type": "code",
   "execution_count": 35,
   "id": "initial_id",
   "metadata": {
    "collapsed": true,
    "ExecuteTime": {
     "end_time": "2024-01-23T12:06:23.317045295Z",
     "start_time": "2024-01-23T12:06:23.275340343Z"
    }
   },
   "outputs": [],
   "source": [
    "import pickle\n",
    "from revolve2.modular_robot import ModularRobot\n",
    "from revolve2.modular_robot.brain.cpg import BrainCpgNSEnvironmentalControl\n",
    "from revolve2.modular_robot.brain.cpg._make_cpg_network_structure_neighbor import (\n",
    "    active_hinges_to_cpg_network_structure_neighbor,\n",
    ")\n",
    "from revolve2.modular_robot_physical import Config\n",
    "\n",
    "import math\n",
    "import numpy as np\n",
    "from revolve2.modular_robot.body.v1 import *\n",
    "from revolve2.modular_robot.body import RightAngles\n",
    "from revolve2.modular_robot.body.base import ActiveHinge\n",
    "from revolve2.modular_robot_physical import UUIDKey\n",
    "\n",
    "from revolve2.modular_robot_physical.remote import test_physical_robot"
   ]
  },
  {
   "cell_type": "code",
   "outputs": [],
   "source": [
    "CONTROL_FREQUENCY = 30 # 20\n",
    "RUN_DURATION = 120"
   ],
   "metadata": {
    "collapsed": false,
    "ExecuteTime": {
     "end_time": "2024-01-23T12:06:23.622502832Z",
     "start_time": "2024-01-23T12:06:23.617896520Z"
    }
   },
   "id": "de1b51cf34e36bbd",
   "execution_count": 36
  },
  {
   "cell_type": "code",
   "outputs": [],
   "source": [
    "def darwinism() -> BodyV1:\n",
    "    body = BodyV1()\n",
    "    body.core_v1.front = ActiveHingeV1(RightAngles.DEG_90)\n",
    "    body.core_v1.front.attachment = ActiveHingeV1(RightAngles.DEG_270)\n",
    "    body.core_v1.front.attachment.attachment = ActiveHingeV1(RightAngles.DEG_0)\n",
    "\n",
    "    body.core_v1.right = ActiveHingeV1(RightAngles.DEG_90)\n",
    "    body.core_v1.right.attachment = ActiveHingeV1(RightAngles.DEG_270)\n",
    "    body.core_v1.right.attachment.attachment = ActiveHingeV1(RightAngles.DEG_0)\n",
    "\n",
    "    body.core_v1.back = ActiveHingeV1(RightAngles.DEG_90)\n",
    "    body.core_v1.back.attachment = ActiveHingeV1(RightAngles.DEG_270)\n",
    "    body.core_v1.back.attachment.attachment = ActiveHingeV1(RightAngles.DEG_0)\n",
    "\n",
    "    return body\n",
    "\n",
    "\n",
    "def lamarckism() -> BodyV1:\n",
    "    body = BodyV1()\n",
    "    body.core_v1.front = ActiveHingeV1(RightAngles.DEG_0)\n",
    "    body.core_v1.front.attachment = ActiveHingeV1(RightAngles.DEG_0)\n",
    "    body.core_v1.front.attachment.attachment = ActiveHingeV1(RightAngles.DEG_0)\n",
    "\n",
    "    body.core_v1.back = ActiveHingeV1(RightAngles.DEG_90)\n",
    "    body.core_v1.back.attachment = ActiveHingeV1(RightAngles.DEG_270)\n",
    "\n",
    "    body.core_v1.right = ActiveHingeV1(RightAngles.DEG_90)\n",
    "    body.core_v1.right.attachment = ActiveHingeV1(RightAngles.DEG_270)\n",
    "\n",
    "    body.core_v1.left = ActiveHingeV1(RightAngles.DEG_90)\n",
    "    body.core_v1.left.attachment = ActiveHingeV1(RightAngles.DEG_270)\n",
    "    return body"
   ],
   "metadata": {
    "collapsed": false,
    "ExecuteTime": {
     "end_time": "2024-01-23T12:08:55.027254466Z",
     "start_time": "2024-01-23T12:08:54.982533140Z"
    }
   },
   "id": "2e61781fa09c0856",
   "execution_count": 41
  },
  {
   "cell_type": "markdown",
   "source": [
    "## Configure Darwinism\n"
   ],
   "metadata": {
    "collapsed": false
   },
   "id": "7417dacee2f96a7"
  },
  {
   "cell_type": "code",
   "outputs": [],
   "source": [
    "with open(\"brains_pickle/darw_brain.pickle\", \"rb\") as f:\n",
    "    brain_params = pickle.load(f)"
   ],
   "metadata": {
    "collapsed": false,
    "ExecuteTime": {
     "end_time": "2024-01-23T12:08:55.199623370Z",
     "start_time": "2024-01-23T12:08:55.195231960Z"
    }
   },
   "id": "c4b8fd489d1b6e91",
   "execution_count": 42
  },
  {
   "cell_type": "code",
   "outputs": [
    {
     "name": "stdout",
     "output_type": "stream",
     "text": [
      "[0.78539816 0.78539816 0.78539816 0.78539816 0.78539816 0.78539816\n",
      " 0.78539816 0.78539816 0.78539816 0.78539816 0.78539816 0.78539816\n",
      " 0.78539816 0.78539816 0.78539816 0.78539816 0.78539816 0.78539816]\n"
     ]
    }
   ],
   "source": [
    "body = darwinism()\n",
    "hinges = body.find_modules_of_type(ActiveHinge)\n",
    "pins = [17,27,23,10,25,11,7,6,13]\n",
    "\n",
    "hinge_mapping = {UUIDKey(hinge): pin for hinge, pin in zip(hinges, pins)}\n",
    "initial_hinge_positions = {UUIDKey(hinge): 0.0 for hinge in hinges}\n",
    "inverse_servos = {10: True, 7: True}\n",
    "\n",
    "initial_state, _, weight_matrix, _ = brain_params\n",
    "print(initial_state)\n",
    "\n",
    "weight_matrix = weight_matrix / np.max(np.abs(weight_matrix))\n",
    "(\n",
    "    cpg_network_structure,\n",
    "    output_mapping,\n",
    ") = active_hinges_to_cpg_network_structure_neighbor(hinges)\n",
    "# initial_state = cpg_network_structure.make_uniform_state(0.5 * math.sqrt(2))\n",
    "\n",
    "brain = BrainCpgNSEnvironmentalControl(\n",
    "    initial_state=initial_state,\n",
    "    weight_matrix=weight_matrix,\n",
    "    output_mapping=output_mapping,\n",
    ")\n",
    "\n",
    "robot = ModularRobot(body=body, brain=brain)"
   ],
   "metadata": {
    "collapsed": false,
    "ExecuteTime": {
     "end_time": "2024-01-23T12:08:55.489652340Z",
     "start_time": "2024-01-23T12:08:55.482250282Z"
    }
   },
   "id": "5e1c9d820f8e81eb",
   "execution_count": 43
  },
  {
   "cell_type": "code",
   "outputs": [],
   "source": [
    "config = Config(\n",
    "    modular_robot=robot,\n",
    "    hinge_mapping=hinge_mapping,\n",
    "    initial_hinge_positions=initial_hinge_positions,\n",
    "    run_duration=RUN_DURATION,\n",
    "    control_frequency=CONTROL_FREQUENCY,\n",
    "    inverse_servos=inverse_servos,\n",
    ")\n",
    "\n",
    "with open(\"darwinism_conf.pickle\", \"wb\") as f:\n",
    "    pickle.dump(config, f)"
   ],
   "metadata": {
    "collapsed": false,
    "ExecuteTime": {
     "end_time": "2024-01-23T12:08:55.649428443Z",
     "start_time": "2024-01-23T12:08:55.645856830Z"
    }
   },
   "id": "392173e6bf46b301",
   "execution_count": 44
  },
  {
   "cell_type": "code",
   "outputs": [],
   "source": [],
   "metadata": {
    "collapsed": false,
    "ExecuteTime": {
     "end_time": "2024-01-23T12:08:55.768601969Z",
     "start_time": "2024-01-23T12:08:55.764508083Z"
    }
   },
   "id": "1bc4539efec04d0a",
   "execution_count": 44
  },
  {
   "cell_type": "code",
   "outputs": [],
   "source": [],
   "metadata": {
    "collapsed": false
   },
   "id": "1b19bbd488761b7b"
  }
 ],
 "metadata": {
  "kernelspec": {
   "display_name": "Python 3",
   "language": "python",
   "name": "python3"
  },
  "language_info": {
   "codemirror_mode": {
    "name": "ipython",
    "version": 2
   },
   "file_extension": ".py",
   "mimetype": "text/x-python",
   "name": "python",
   "nbconvert_exporter": "python",
   "pygments_lexer": "ipython2",
   "version": "2.7.6"
  }
 },
 "nbformat": 4,
 "nbformat_minor": 5
}
